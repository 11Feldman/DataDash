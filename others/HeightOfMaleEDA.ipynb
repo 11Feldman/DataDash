{
 "cells": [
  {
   "cell_type": "markdown",
   "metadata": {},
   "source": [
    "# Acerca del conjunto de datos\n",
    "\n",
    "### Contexto\n",
    "El sistema métrico se usa en la mayoría de las naciones para medir la estatura. A pesar de que el sistema métrico es el método de medición más utilizado, ofreceremos estaturas promedio en unidades métricas e imperiales para cada país. Para ser claros, el sistema imperial utiliza pies y pulgadas para medir la altura, mientras que el sistema métrico utiliza metros y centímetros. Aunque cambiar entre estas unidades de medida no es difícil, los países tienden a elegir una u otra para mantener la uniformidad.\n",
    "\n",
    "### Contenido\n",
    "El conjunto de datos contiene seis columnas:\n",
    "• Rango\n",
    "• Nombre del país\n",
    "• Altura masculina en cm\n",
    "• Altura femenina en cm\n",
    "• Altura masculina en pies\n",
    "• Altura femenina en pies\n",
    "\n",
    "### Agradecimientos\n",
    "Los usuarios pueden usar, copiar, distribuir y citar el conjunto de datos de la siguiente manera: \"Majyhain, altura promedio de hombres y mujeres por país 2022, conjunto de datos de Kaggle, 2 de febrero de 2022\".\n",
    "\n",
    "### Inspiración\n",
    "Las ideas para estos datos son:\n",
    "¿Estatura promedio de los hombres en los países?\n",
    "¿Estatura promedio de las mujeres en los países?\n",
    "¿Altura de hombres y mujeres en pies?\n",
    "\n",
    "¿Qué país tiene el hombre y la mujer más altos?\n",
    "\n",
    "¿Qué países tienen la estatura promedio masculina y femenina más baja?\n",
    "\n",
    "### Referencias:\n",
    "Los datos se recopilan de los siguientes sitios:\n",
    "\n",
    "https://ourworldindata.org/"
   ]
  },
  {
   "cell_type": "code",
   "execution_count": 66,
   "metadata": {},
   "outputs": [],
   "source": [
    "import pandas as pd\n",
    "import matplotlib.pyplot as plt"
   ]
  },
  {
   "cell_type": "code",
   "execution_count": 67,
   "metadata": {},
   "outputs": [],
   "source": [
    "ruta = 'C:/Users/arfeldman/Desktop/DataDash/datasets/Height of Male and Female by Country 2022.csv'\n",
    "df = pd.read_csv(ruta)"
   ]
  },
  {
   "cell_type": "code",
   "execution_count": 68,
   "metadata": {},
   "outputs": [
    {
     "data": {
      "text/plain": [
       "(199, 6)"
      ]
     },
     "execution_count": 68,
     "metadata": {},
     "output_type": "execute_result"
    }
   ],
   "source": [
    "df.shape"
   ]
  },
  {
   "cell_type": "code",
   "execution_count": 69,
   "metadata": {},
   "outputs": [
    {
     "name": "stdout",
     "output_type": "stream",
     "text": [
      "<class 'pandas.core.frame.DataFrame'>\n",
      "RangeIndex: 199 entries, 0 to 198\n",
      "Data columns (total 6 columns):\n",
      " #   Column               Non-Null Count  Dtype  \n",
      "---  ------               --------------  -----  \n",
      " 0   Rank                 199 non-null    int64  \n",
      " 1   Country Name         199 non-null    object \n",
      " 2   Male Height in Cm    199 non-null    float64\n",
      " 3   Female Height in Cm  199 non-null    float64\n",
      " 4   Male Height in Ft    199 non-null    float64\n",
      " 5   Female Height in Ft  199 non-null    float64\n",
      "dtypes: float64(4), int64(1), object(1)\n",
      "memory usage: 9.5+ KB\n"
     ]
    }
   ],
   "source": [
    "df.info()"
   ]
  },
  {
   "cell_type": "code",
   "execution_count": 70,
   "metadata": {},
   "outputs": [
    {
     "data": {
      "text/plain": [
       "Rank                   0\n",
       "Country Name           0\n",
       "Male Height in Cm      0\n",
       "Female Height in Cm    0\n",
       "Male Height in Ft      0\n",
       "Female Height in Ft    0\n",
       "dtype: int64"
      ]
     },
     "execution_count": 70,
     "metadata": {},
     "output_type": "execute_result"
    }
   ],
   "source": [
    "df.isnull().sum()"
   ]
  },
  {
   "cell_type": "code",
   "execution_count": 71,
   "metadata": {},
   "outputs": [],
   "source": [
    "df.rename(\n",
    "    columns={\n",
    "        'Rank':'ranking',\n",
    "        'Country Name':'pais',\n",
    "        'Male Height in Cm':'hombre_en_cm',\n",
    "        'Female Height in Cm':'mujer_cm',\n",
    "        'Male Height in Ft':'hombre_pies',\n",
    "        'Female Height in Ft':'mujer_pies',\n",
    "    },\n",
    "    inplace=True\n",
    ")"
   ]
  },
  {
   "cell_type": "code",
   "execution_count": 72,
   "metadata": {},
   "outputs": [
    {
     "data": {
      "text/html": [
       "<div>\n",
       "<style scoped>\n",
       "    .dataframe tbody tr th:only-of-type {\n",
       "        vertical-align: middle;\n",
       "    }\n",
       "\n",
       "    .dataframe tbody tr th {\n",
       "        vertical-align: top;\n",
       "    }\n",
       "\n",
       "    .dataframe thead th {\n",
       "        text-align: right;\n",
       "    }\n",
       "</style>\n",
       "<table border=\"1\" class=\"dataframe\">\n",
       "  <thead>\n",
       "    <tr style=\"text-align: right;\">\n",
       "      <th></th>\n",
       "      <th>ranking</th>\n",
       "      <th>hombre_en_cm</th>\n",
       "      <th>mujer_cm</th>\n",
       "      <th>hombre_pies</th>\n",
       "      <th>mujer_pies</th>\n",
       "    </tr>\n",
       "  </thead>\n",
       "  <tbody>\n",
       "    <tr>\n",
       "      <th>count</th>\n",
       "      <td>199.000000</td>\n",
       "      <td>199.000000</td>\n",
       "      <td>199.000000</td>\n",
       "      <td>199.000000</td>\n",
       "      <td>199.000000</td>\n",
       "    </tr>\n",
       "    <tr>\n",
       "      <th>mean</th>\n",
       "      <td>100.000000</td>\n",
       "      <td>173.089045</td>\n",
       "      <td>160.942915</td>\n",
       "      <td>5.678794</td>\n",
       "      <td>5.280402</td>\n",
       "    </tr>\n",
       "    <tr>\n",
       "      <th>std</th>\n",
       "      <td>57.590508</td>\n",
       "      <td>4.949832</td>\n",
       "      <td>4.076377</td>\n",
       "      <td>0.162510</td>\n",
       "      <td>0.133870</td>\n",
       "    </tr>\n",
       "    <tr>\n",
       "      <th>min</th>\n",
       "      <td>1.000000</td>\n",
       "      <td>160.130000</td>\n",
       "      <td>150.910000</td>\n",
       "      <td>5.250000</td>\n",
       "      <td>4.950000</td>\n",
       "    </tr>\n",
       "    <tr>\n",
       "      <th>25%</th>\n",
       "      <td>50.500000</td>\n",
       "      <td>169.490000</td>\n",
       "      <td>158.240000</td>\n",
       "      <td>5.560000</td>\n",
       "      <td>5.190000</td>\n",
       "    </tr>\n",
       "    <tr>\n",
       "      <th>50%</th>\n",
       "      <td>100.000000</td>\n",
       "      <td>173.530000</td>\n",
       "      <td>160.620000</td>\n",
       "      <td>5.690000</td>\n",
       "      <td>5.270000</td>\n",
       "    </tr>\n",
       "    <tr>\n",
       "      <th>75%</th>\n",
       "      <td>149.500000</td>\n",
       "      <td>176.510000</td>\n",
       "      <td>163.870000</td>\n",
       "      <td>5.790000</td>\n",
       "      <td>5.375000</td>\n",
       "    </tr>\n",
       "    <tr>\n",
       "      <th>max</th>\n",
       "      <td>199.000000</td>\n",
       "      <td>183.780000</td>\n",
       "      <td>170.360000</td>\n",
       "      <td>6.030000</td>\n",
       "      <td>5.590000</td>\n",
       "    </tr>\n",
       "  </tbody>\n",
       "</table>\n",
       "</div>"
      ],
      "text/plain": [
       "          ranking  hombre_en_cm    mujer_cm  hombre_pies  mujer_pies\n",
       "count  199.000000    199.000000  199.000000   199.000000  199.000000\n",
       "mean   100.000000    173.089045  160.942915     5.678794    5.280402\n",
       "std     57.590508      4.949832    4.076377     0.162510    0.133870\n",
       "min      1.000000    160.130000  150.910000     5.250000    4.950000\n",
       "25%     50.500000    169.490000  158.240000     5.560000    5.190000\n",
       "50%    100.000000    173.530000  160.620000     5.690000    5.270000\n",
       "75%    149.500000    176.510000  163.870000     5.790000    5.375000\n",
       "max    199.000000    183.780000  170.360000     6.030000    5.590000"
      ]
     },
     "execution_count": 72,
     "metadata": {},
     "output_type": "execute_result"
    }
   ],
   "source": [
    "df.describe()"
   ]
  },
  {
   "cell_type": "code",
   "execution_count": 73,
   "metadata": {},
   "outputs": [],
   "source": [
    "df.drop(columns=['ranking'],inplace=True)"
   ]
  },
  {
   "cell_type": "code",
   "execution_count": 74,
   "metadata": {},
   "outputs": [],
   "source": [
    "def histogramas(x):\n",
    "    x = x.select_dtypes(include=['int64','float'])\n",
    "    cant = x.shape[1]\n",
    "    plt.style.use('seaborn')\n",
    "    fig,ax =plt.subplots(nrows=cant,ncols=1,figsize=(7,13),sharex=False,sharey=False)\n",
    "    a = 0\n",
    "    for i in x.columns:\n",
    "        data = x.loc[:,i:i]\n",
    "        ax[a].hist(data,bins=10)\n",
    "        ax[a].set_title(i)\n",
    "        a = a + 1\n",
    "    fig.tight_layout()\n",
    "    plt.show()"
   ]
  },
  {
   "cell_type": "code",
   "execution_count": 75,
   "metadata": {},
   "outputs": [
    {
     "data": {
      "image/png": "[encoded data removed]",
      "text/plain": [
       "<Figure size 504x936 with 4 Axes>"
      ]
     },
     "metadata": {},
     "output_type": "display_data"
    }
   ],
   "source": [
    "histogramas(df)"
   ]
  },
  {
   "cell_type": "code",
   "execution_count": 76,
   "metadata": {},
   "outputs": [
    {
     "data": {
      "image/png": "[encoded data removed]",
      "text/plain": [
       "<Figure size 1080x360 with 4 Axes>"
      ]
     },
     "metadata": {},
     "output_type": "display_data"
    }
   ],
   "source": [
    "def boxplt(x):\n",
    "    x = x.select_dtypes(exclude='object')\n",
    "    cant = len(x.columns)\n",
    "    fig,ax = plt.subplots(nrows=1,ncols=cant,sharex=False,sharey=False,figsize=(15,5))\n",
    "    a = 0\n",
    "    for i in x.columns:\n",
    "        ax[a].boxplot(x[f'{i}'],patch_artist=True)\n",
    "        ax[a].set_title(f'{i}')\n",
    "        a = a + 1\n",
    "    fig.tight_layout()\n",
    "    plt.show()\n",
    "\n",
    "boxplt(df)"
   ]
  },
  {
   "cell_type": "markdown",
   "metadata": {},
   "source": [
    "### Inspiración\n",
    "###### Las ideas para estos datos son:\n",
    "###### ¿Qué país tiene el hombre y la mujer más altos?\n",
    "###### ¿Qué país tiene el hombre y la mujer más bajos?\n",
    "###### ¿Qué países estan dentro del promedio de altura de hombres y mujeres?\n",
    "###### ¿Cual es la moda de la altura de hombres y mujeres?"
   ]
  },
  {
   "cell_type": "code",
   "execution_count": 81,
   "metadata": {},
   "outputs": [
    {
     "name": "stdout",
     "output_type": "stream",
     "text": [
      "          pais  hombre_en_cm  mujer_cm  hombre_pies  mujer_pies\n",
      "0  Netherlands        183.78    170.36         6.03        5.59\n",
      "            pais  hombre_en_cm  mujer_cm  hombre_pies  mujer_pies\n",
      "198  Timor-Leste        160.13    152.71         5.25        5.01\n"
     ]
    }
   ],
   "source": [
    "h_mas_alto = df.hombre_en_cm.max()\n",
    "pais_mas_alto = df[(df.hombre_en_cm==h_mas_alto)]\n",
    "print(pais_mas_alto)\n",
    "\n",
    "h_mas_bajo = df.hombre_en_cm.min()\n",
    "pais_mas_bajo= df[(df.hombre_en_cm==h_mas_bajo)]\n",
    "print(pais_mas_bajo)"
   ]
  },
  {
   "cell_type": "code",
   "execution_count": 83,
   "metadata": {},
   "outputs": [
    {
     "name": "stdout",
     "output_type": "stream",
     "text": [
      "          pais  hombre_en_cm  mujer_cm  hombre_pies  mujer_pies\n",
      "0  Netherlands        183.78    170.36         6.03        5.59\n",
      "          pais  hombre_en_cm  mujer_cm  hombre_pies  mujer_pies\n",
      "193  Guatemala        164.36    150.91         5.39        4.95\n"
     ]
    }
   ],
   "source": [
    "m_mas_alto = df.mujer_cm.max()\n",
    "pais_mas_alto = df[(df.mujer_cm==m_mas_alto)]\n",
    "print(pais_mas_alto)\n",
    "\n",
    "m_mas_baja = df.mujer_cm.min()\n",
    "pais_mas_bajo= df[(df.mujer_cm==m_mas_baja)]\n",
    "print(pais_mas_bajo)"
   ]
  },
  {
   "cell_type": "code",
   "execution_count": 85,
   "metadata": {},
   "outputs": [
    {
     "data": {
      "text/html": [
       "<div>\n",
       "<style scoped>\n",
       "    .dataframe tbody tr th:only-of-type {\n",
       "        vertical-align: middle;\n",
       "    }\n",
       "\n",
       "    .dataframe tbody tr th {\n",
       "        vertical-align: top;\n",
       "    }\n",
       "\n",
       "    .dataframe thead th {\n",
       "        text-align: right;\n",
       "    }\n",
       "</style>\n",
       "<table border=\"1\" class=\"dataframe\">\n",
       "  <thead>\n",
       "    <tr style=\"text-align: right;\">\n",
       "      <th></th>\n",
       "      <th>pais</th>\n",
       "      <th>hombre_en_cm</th>\n",
       "      <th>mujer_cm</th>\n",
       "      <th>hombre_pies</th>\n",
       "      <th>mujer_pies</th>\n",
       "    </tr>\n",
       "  </thead>\n",
       "  <tbody>\n",
       "  </tbody>\n",
       "</table>\n",
       "</div>"
      ],
      "text/plain": [
       "Empty DataFrame\n",
       "Columns: [pais, hombre_en_cm, mujer_cm, hombre_pies, mujer_pies]\n",
       "Index: []"
      ]
     },
     "execution_count": 85,
     "metadata": {},
     "output_type": "execute_result"
    }
   ],
   "source": [
    "df[(df.hombre_en_cm==df.hombre_en_cm.mean())]"
   ]
  },
  {
   "cell_type": "code",
   "execution_count": 86,
   "metadata": {},
   "outputs": [
    {
     "data": {
      "text/html": [
       "<div>\n",
       "<style scoped>\n",
       "    .dataframe tbody tr th:only-of-type {\n",
       "        vertical-align: middle;\n",
       "    }\n",
       "\n",
       "    .dataframe tbody tr th {\n",
       "        vertical-align: top;\n",
       "    }\n",
       "\n",
       "    .dataframe thead th {\n",
       "        text-align: right;\n",
       "    }\n",
       "</style>\n",
       "<table border=\"1\" class=\"dataframe\">\n",
       "  <thead>\n",
       "    <tr style=\"text-align: right;\">\n",
       "      <th></th>\n",
       "      <th>pais</th>\n",
       "      <th>hombre_en_cm</th>\n",
       "      <th>mujer_cm</th>\n",
       "      <th>hombre_pies</th>\n",
       "      <th>mujer_pies</th>\n",
       "    </tr>\n",
       "  </thead>\n",
       "  <tbody>\n",
       "    <tr>\n",
       "      <th>99</th>\n",
       "      <td>Venezuela</td>\n",
       "      <td>173.53</td>\n",
       "      <td>160.04</td>\n",
       "      <td>5.69</td>\n",
       "      <td>5.25</td>\n",
       "    </tr>\n",
       "    <tr>\n",
       "      <th>100</th>\n",
       "      <td>Taiwan</td>\n",
       "      <td>173.53</td>\n",
       "      <td>160.70</td>\n",
       "      <td>5.69</td>\n",
       "      <td>5.27</td>\n",
       "    </tr>\n",
       "  </tbody>\n",
       "</table>\n",
       "</div>"
      ],
      "text/plain": [
       "          pais  hombre_en_cm  mujer_cm  hombre_pies  mujer_pies\n",
       "99   Venezuela        173.53    160.04         5.69        5.25\n",
       "100     Taiwan        173.53    160.70         5.69        5.27"
      ]
     },
     "execution_count": 86,
     "metadata": {},
     "output_type": "execute_result"
    }
   ],
   "source": [
    "df[(df.hombre_en_cm==df.hombre_en_cm.median())]"
   ]
  },
  {
   "cell_type": "code",
   "execution_count": 94,
   "metadata": {},
   "outputs": [
    {
     "data": {
      "text/html": [
       "<div>\n",
       "<style scoped>\n",
       "    .dataframe tbody tr th:only-of-type {\n",
       "        vertical-align: middle;\n",
       "    }\n",
       "\n",
       "    .dataframe tbody tr th {\n",
       "        vertical-align: top;\n",
       "    }\n",
       "\n",
       "    .dataframe thead th {\n",
       "        text-align: right;\n",
       "    }\n",
       "</style>\n",
       "<table border=\"1\" class=\"dataframe\">\n",
       "  <thead>\n",
       "    <tr style=\"text-align: right;\">\n",
       "      <th></th>\n",
       "      <th>pais</th>\n",
       "      <th>hombre_en_cm</th>\n",
       "      <th>mujer_cm</th>\n",
       "      <th>hombre_pies</th>\n",
       "      <th>mujer_pies</th>\n",
       "    </tr>\n",
       "  </thead>\n",
       "  <tbody>\n",
       "    <tr>\n",
       "      <th>128</th>\n",
       "      <td>Mongolia</td>\n",
       "      <td>170.67</td>\n",
       "      <td>159.89</td>\n",
       "      <td>5.6</td>\n",
       "      <td>5.25</td>\n",
       "    </tr>\n",
       "    <tr>\n",
       "      <th>129</th>\n",
       "      <td>El Salvador</td>\n",
       "      <td>170.67</td>\n",
       "      <td>156.39</td>\n",
       "      <td>5.6</td>\n",
       "      <td>5.13</td>\n",
       "    </tr>\n",
       "    <tr>\n",
       "      <th>130</th>\n",
       "      <td>Saudi Arabia</td>\n",
       "      <td>170.67</td>\n",
       "      <td>158.84</td>\n",
       "      <td>5.6</td>\n",
       "      <td>5.21</td>\n",
       "    </tr>\n",
       "  </tbody>\n",
       "</table>\n",
       "</div>"
      ],
      "text/plain": [
       "             pais  hombre_en_cm  mujer_cm  hombre_pies  mujer_pies\n",
       "128      Mongolia        170.67    159.89          5.6        5.25\n",
       "129   El Salvador        170.67    156.39          5.6        5.13\n",
       "130  Saudi Arabia        170.67    158.84          5.6        5.21"
      ]
     },
     "execution_count": 94,
     "metadata": {},
     "output_type": "execute_result"
    }
   ],
   "source": [
    "moda = float(df.hombre_en_cm.mode())\n",
    "df[ ( df.hombre_en_cm == moda )]"
   ]
  },
  {
   "cell_type": "code",
   "execution_count": 97,
   "metadata": {},
   "outputs": [
    {
     "data": {
      "text/html": [
       "<div>\n",
       "<style scoped>\n",
       "    .dataframe tbody tr th:only-of-type {\n",
       "        vertical-align: middle;\n",
       "    }\n",
       "\n",
       "    .dataframe tbody tr th {\n",
       "        vertical-align: top;\n",
       "    }\n",
       "\n",
       "    .dataframe thead th {\n",
       "        text-align: right;\n",
       "    }\n",
       "</style>\n",
       "<table border=\"1\" class=\"dataframe\">\n",
       "  <thead>\n",
       "    <tr style=\"text-align: right;\">\n",
       "      <th></th>\n",
       "      <th>pais</th>\n",
       "      <th>hombre_en_cm</th>\n",
       "      <th>mujer_cm</th>\n",
       "      <th>hombre_pies</th>\n",
       "      <th>mujer_pies</th>\n",
       "    </tr>\n",
       "  </thead>\n",
       "  <tbody>\n",
       "    <tr>\n",
       "      <th>count</th>\n",
       "      <td>199</td>\n",
       "      <td>199.000000</td>\n",
       "      <td>199.000000</td>\n",
       "      <td>199.000000</td>\n",
       "      <td>199.000000</td>\n",
       "    </tr>\n",
       "    <tr>\n",
       "      <th>unique</th>\n",
       "      <td>199</td>\n",
       "      <td>NaN</td>\n",
       "      <td>NaN</td>\n",
       "      <td>NaN</td>\n",
       "      <td>NaN</td>\n",
       "    </tr>\n",
       "    <tr>\n",
       "      <th>top</th>\n",
       "      <td>Netherlands</td>\n",
       "      <td>NaN</td>\n",
       "      <td>NaN</td>\n",
       "      <td>NaN</td>\n",
       "      <td>NaN</td>\n",
       "    </tr>\n",
       "    <tr>\n",
       "      <th>freq</th>\n",
       "      <td>1</td>\n",
       "      <td>NaN</td>\n",
       "      <td>NaN</td>\n",
       "      <td>NaN</td>\n",
       "      <td>NaN</td>\n",
       "    </tr>\n",
       "    <tr>\n",
       "      <th>mean</th>\n",
       "      <td>NaN</td>\n",
       "      <td>173.089045</td>\n",
       "      <td>160.942915</td>\n",
       "      <td>5.678794</td>\n",
       "      <td>5.280402</td>\n",
       "    </tr>\n",
       "    <tr>\n",
       "      <th>std</th>\n",
       "      <td>NaN</td>\n",
       "      <td>4.949832</td>\n",
       "      <td>4.076377</td>\n",
       "      <td>0.162510</td>\n",
       "      <td>0.133870</td>\n",
       "    </tr>\n",
       "    <tr>\n",
       "      <th>min</th>\n",
       "      <td>NaN</td>\n",
       "      <td>160.130000</td>\n",
       "      <td>150.910000</td>\n",
       "      <td>5.250000</td>\n",
       "      <td>4.950000</td>\n",
       "    </tr>\n",
       "    <tr>\n",
       "      <th>25%</th>\n",
       "      <td>NaN</td>\n",
       "      <td>169.490000</td>\n",
       "      <td>158.240000</td>\n",
       "      <td>5.560000</td>\n",
       "      <td>5.190000</td>\n",
       "    </tr>\n",
       "    <tr>\n",
       "      <th>50%</th>\n",
       "      <td>NaN</td>\n",
       "      <td>173.530000</td>\n",
       "      <td>160.620000</td>\n",
       "      <td>5.690000</td>\n",
       "      <td>5.270000</td>\n",
       "    </tr>\n",
       "    <tr>\n",
       "      <th>75%</th>\n",
       "      <td>NaN</td>\n",
       "      <td>176.510000</td>\n",
       "      <td>163.870000</td>\n",
       "      <td>5.790000</td>\n",
       "      <td>5.375000</td>\n",
       "    </tr>\n",
       "    <tr>\n",
       "      <th>max</th>\n",
       "      <td>NaN</td>\n",
       "      <td>183.780000</td>\n",
       "      <td>170.360000</td>\n",
       "      <td>6.030000</td>\n",
       "      <td>5.590000</td>\n",
       "    </tr>\n",
       "  </tbody>\n",
       "</table>\n",
       "</div>"
      ],
      "text/plain": [
       "               pais  hombre_en_cm    mujer_cm  hombre_pies  mujer_pies\n",
       "count           199    199.000000  199.000000   199.000000  199.000000\n",
       "unique          199           NaN         NaN          NaN         NaN\n",
       "top     Netherlands           NaN         NaN          NaN         NaN\n",
       "freq              1           NaN         NaN          NaN         NaN\n",
       "mean            NaN    173.089045  160.942915     5.678794    5.280402\n",
       "std             NaN      4.949832    4.076377     0.162510    0.133870\n",
       "min             NaN    160.130000  150.910000     5.250000    4.950000\n",
       "25%             NaN    169.490000  158.240000     5.560000    5.190000\n",
       "50%             NaN    173.530000  160.620000     5.690000    5.270000\n",
       "75%             NaN    176.510000  163.870000     5.790000    5.375000\n",
       "max             NaN    183.780000  170.360000     6.030000    5.590000"
      ]
     },
     "execution_count": 97,
     "metadata": {},
     "output_type": "execute_result"
    }
   ],
   "source": [
    "df.describe(include='all')"
   ]
  },
  {
   "cell_type": "code",
   "execution_count": null,
   "metadata": {},
   "outputs": [],
   "source": []
  }
 ],
 "metadata": {
  "interpreter": {
   "hash": "d5541ea63b3e0eec686519111bbc27c05e46464b7cfe1f7c0192638d11c7f99a"
  },
  "kernelspec": {
   "display_name": "Python 3.9.7 64-bit",
   "language": "python",
   "name": "python3"
  },
  "language_info": {
   "codemirror_mode": {
    "name": "ipython",
    "version": 3
   },
   "file_extension": ".py",
   "mimetype": "text/x-python",
   "name": "python",
   "nbconvert_exporter": "python",
   "pygments_lexer": "ipython3",
   "version": "3.9.7"
  },
  "orig_nbformat": 4
 },
 "nbformat": 4,
 "nbformat_minor": 2
}
