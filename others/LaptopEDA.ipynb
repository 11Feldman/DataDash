{
 "cells": [
  {
   "cell_type": "markdown",
   "metadata": {},
   "source": [
    "# Acerca del conjunto de datos\n",
    "### ¿Qué factores afectan los precios de las computadoras portátiles?\n",
    "\n",
    "Varios factores diferentes pueden afectar los precios de las computadoras portátiles. Estos factores incluyen la marca de la computadora y la cantidad de opciones y complementos incluidos en el paquete de la computadora. Además, la cantidad de memoria y la velocidad del procesador también pueden afectar el precio. Aunque es menos común, algunos consumidores gastan dinero adicional para comprar una computadora según el \"aspecto\" general y el diseño del sistema.\n",
    "En muchos casos, las computadoras de marca son más caras que las versiones genéricas. Este aumento de precio a menudo tiene más que ver con el reconocimiento del nombre que con cualquier superioridad real del producto. Una diferencia importante entre los sistemas genéricos y de marca es que, en la mayoría de los casos, las computadoras de marca ofrecen mejores garantías que las versiones genéricas. Tener la opción de devolver una computadora que no funciona correctamente suele ser un incentivo suficiente para animar a muchos consumidores a gastar más dinero.\n",
    "La funcionalidad es un factor importante para determinar los precios de las computadoras portátiles. Una computadora con más memoria a menudo funciona mejor durante más tiempo que una computadora con menos memoria. Además, el espacio en el disco duro también es crucial, y el tamaño del disco duro generalmente afecta el precio. Muchos consumidores también pueden buscar controladores de video digital y otros tipos de dispositivos de grabación que pueden afectar los precios de las computadoras portátiles.\n",
    "La mayoría de las computadoras vienen con algún software preinstalado. En la mayoría de los casos, cuanto más software se instala en una computadora, más caro es. Esto es especialmente cierto si los programas instalados son de editores de software bien establecidos y reconocibles. Aquellos que estén considerando comprar una computadora portátil nueva deben tener en cuenta que muchos de los programas preinstalados pueden ser solo versiones de prueba y vencerán dentro de un cierto período de tiempo. Para conservar los programas, será necesario comprar un código y luego se podrá descargar una versión permanente del software.\n",
    "-Muchos consumidores que están comprando una computadora nueva están comprando un paquete completo. Además de la computadora en sí, estos sistemas suelen incluir un monitor, un teclado y un mouse. Algunos paquetes pueden incluso incluir una impresora o una cámara digital. La cantidad de extras incluidos en un paquete de computadora generalmente afecta los precios de las computadoras portátiles.\n",
    "Algunos líderes de la industria en la fabricación de computadoras hacen que ofrecer computadoras con un estilo elegante y en una variedad de colores sea un punto de venta. También pueden ofrecer un diseño de sistema inusual o contemporáneo. Aunque esto es menos importante para muchos consumidores, para aquellos que valoran la “apariencia”, este tipo de sistema bien puede valer el costo adicional.\n",
    "¿De dónde saqué estos datos?\n",
    "Descartó estos datos de flipkart.com\n",
    "usó una herramienta de extensión web de Chrome automatizada llamada Instant Data Scrapper\n",
    "Le recomendamos encarecidamente que utilice esta hermosa herramienta para obtener los datos desde cualquier lugar de la web. es muy fácil de usar, no se requieren conocimientos de codificación.\n",
    "¿Lo que puedes hacer?\n",
    "Visualice estos datos y prepare gráficos de alta calidad tanto como pueda.\n",
    "\n",
    "### Construya un modelo para predecir el precio\n",
    "\n",
    "### Descripción de las columnas: consulte la sección de columnas de datos."
   ]
  },
  {
   "cell_type": "code",
   "execution_count": 12,
   "metadata": {},
   "outputs": [],
   "source": [
    "import pandas as pd"
   ]
  },
  {
   "cell_type": "code",
   "execution_count": 13,
   "metadata": {},
   "outputs": [],
   "source": [
    "ruta = 'C:/Users/dfd/Desktop/GitHub/DataDash/datasets/Cleaned_Laptop_data.csv'"
   ]
  },
  {
   "cell_type": "code",
   "execution_count": 14,
   "metadata": {},
   "outputs": [],
   "source": [
    "df = pd.read_csv(ruta)"
   ]
  },
  {
   "cell_type": "code",
   "execution_count": 15,
   "metadata": {},
   "outputs": [
    {
     "data": {
      "text/plain": [
       "Index(['brand', 'model', 'processor_brand', 'processor_name',\n",
       "       'processor_gnrtn', 'ram_gb', 'ram_type', 'ssd', 'hdd', 'os', 'os_bit',\n",
       "       'graphic_card_gb', 'weight', 'display_size', 'warranty', 'Touchscreen',\n",
       "       'msoffice', 'latest_price', 'old_price', 'discount', 'star_rating',\n",
       "       'ratings', 'reviews'],\n",
       "      dtype='object')"
      ]
     },
     "execution_count": 15,
     "metadata": {},
     "output_type": "execute_result"
    }
   ],
   "source": [
    "df.columns"
   ]
  },
  {
   "cell_type": "code",
   "execution_count": 16,
   "metadata": {},
   "outputs": [
    {
     "data": {
      "text/html": [
       "<div>\n",
       "<style scoped>\n",
       "    .dataframe tbody tr th:only-of-type {\n",
       "        vertical-align: middle;\n",
       "    }\n",
       "\n",
       "    .dataframe tbody tr th {\n",
       "        vertical-align: top;\n",
       "    }\n",
       "\n",
       "    .dataframe thead th {\n",
       "        text-align: right;\n",
       "    }\n",
       "</style>\n",
       "<table border=\"1\" class=\"dataframe\">\n",
       "  <thead>\n",
       "    <tr style=\"text-align: right;\">\n",
       "      <th></th>\n",
       "      <th>brand</th>\n",
       "      <th>model</th>\n",
       "      <th>processor_brand</th>\n",
       "      <th>processor_name</th>\n",
       "      <th>processor_gnrtn</th>\n",
       "      <th>ram_gb</th>\n",
       "      <th>ram_type</th>\n",
       "      <th>ssd</th>\n",
       "      <th>hdd</th>\n",
       "      <th>os</th>\n",
       "      <th>...</th>\n",
       "      <th>display_size</th>\n",
       "      <th>warranty</th>\n",
       "      <th>Touchscreen</th>\n",
       "      <th>msoffice</th>\n",
       "      <th>latest_price</th>\n",
       "      <th>old_price</th>\n",
       "      <th>discount</th>\n",
       "      <th>star_rating</th>\n",
       "      <th>ratings</th>\n",
       "      <th>reviews</th>\n",
       "    </tr>\n",
       "  </thead>\n",
       "  <tbody>\n",
       "    <tr>\n",
       "      <th>0</th>\n",
       "      <td>ASUS</td>\n",
       "      <td>Celeron</td>\n",
       "      <td>Intel</td>\n",
       "      <td>Celeron Dual</td>\n",
       "      <td>Missing</td>\n",
       "      <td>4</td>\n",
       "      <td>DDR4</td>\n",
       "      <td>0</td>\n",
       "      <td>1024</td>\n",
       "      <td>Windows</td>\n",
       "      <td>...</td>\n",
       "      <td>15.6</td>\n",
       "      <td>1</td>\n",
       "      <td>No</td>\n",
       "      <td>No</td>\n",
       "      <td>23990</td>\n",
       "      <td>26990</td>\n",
       "      <td>11</td>\n",
       "      <td>3.8</td>\n",
       "      <td>15279</td>\n",
       "      <td>1947</td>\n",
       "    </tr>\n",
       "    <tr>\n",
       "      <th>1</th>\n",
       "      <td>ASUS</td>\n",
       "      <td>VivoBook</td>\n",
       "      <td>Intel</td>\n",
       "      <td>Core i3</td>\n",
       "      <td>10th</td>\n",
       "      <td>8</td>\n",
       "      <td>DDR4</td>\n",
       "      <td>512</td>\n",
       "      <td>0</td>\n",
       "      <td>Windows</td>\n",
       "      <td>...</td>\n",
       "      <td>15.6</td>\n",
       "      <td>1</td>\n",
       "      <td>No</td>\n",
       "      <td>No</td>\n",
       "      <td>37990</td>\n",
       "      <td>50990</td>\n",
       "      <td>25</td>\n",
       "      <td>4.3</td>\n",
       "      <td>990</td>\n",
       "      <td>108</td>\n",
       "    </tr>\n",
       "    <tr>\n",
       "      <th>2</th>\n",
       "      <td>ASUS</td>\n",
       "      <td>Vivobook</td>\n",
       "      <td>Intel</td>\n",
       "      <td>Core i3</td>\n",
       "      <td>10th</td>\n",
       "      <td>8</td>\n",
       "      <td>DDR4</td>\n",
       "      <td>0</td>\n",
       "      <td>1024</td>\n",
       "      <td>Windows</td>\n",
       "      <td>...</td>\n",
       "      <td>14.1</td>\n",
       "      <td>1</td>\n",
       "      <td>No</td>\n",
       "      <td>No</td>\n",
       "      <td>32890</td>\n",
       "      <td>46990</td>\n",
       "      <td>30</td>\n",
       "      <td>3.9</td>\n",
       "      <td>28</td>\n",
       "      <td>4</td>\n",
       "    </tr>\n",
       "    <tr>\n",
       "      <th>3</th>\n",
       "      <td>HP</td>\n",
       "      <td>Core</td>\n",
       "      <td>Intel</td>\n",
       "      <td>Core i3</td>\n",
       "      <td>11th</td>\n",
       "      <td>8</td>\n",
       "      <td>DDR4</td>\n",
       "      <td>512</td>\n",
       "      <td>0</td>\n",
       "      <td>Windows</td>\n",
       "      <td>...</td>\n",
       "      <td>15.6</td>\n",
       "      <td>1</td>\n",
       "      <td>No</td>\n",
       "      <td>Yes</td>\n",
       "      <td>42990</td>\n",
       "      <td>57330</td>\n",
       "      <td>25</td>\n",
       "      <td>4.4</td>\n",
       "      <td>158</td>\n",
       "      <td>18</td>\n",
       "    </tr>\n",
       "    <tr>\n",
       "      <th>4</th>\n",
       "      <td>HP</td>\n",
       "      <td>Core</td>\n",
       "      <td>Intel</td>\n",
       "      <td>Core i5</td>\n",
       "      <td>11th</td>\n",
       "      <td>8</td>\n",
       "      <td>DDR4</td>\n",
       "      <td>512</td>\n",
       "      <td>0</td>\n",
       "      <td>Windows</td>\n",
       "      <td>...</td>\n",
       "      <td>15.6</td>\n",
       "      <td>0</td>\n",
       "      <td>No</td>\n",
       "      <td>No</td>\n",
       "      <td>54990</td>\n",
       "      <td>70171</td>\n",
       "      <td>21</td>\n",
       "      <td>4.2</td>\n",
       "      <td>116</td>\n",
       "      <td>15</td>\n",
       "    </tr>\n",
       "  </tbody>\n",
       "</table>\n",
       "<p>5 rows × 23 columns</p>\n",
       "</div>"
      ],
      "text/plain": [
       "  brand     model processor_brand processor_name processor_gnrtn ram_gb  \\\n",
       "0  ASUS   Celeron           Intel   Celeron Dual         Missing      4   \n",
       "1  ASUS  VivoBook           Intel        Core i3            10th      8   \n",
       "2  ASUS  Vivobook           Intel        Core i3            10th      8   \n",
       "3    HP      Core           Intel        Core i3            11th      8   \n",
       "4    HP      Core           Intel        Core i5            11th      8   \n",
       "\n",
       "  ram_type  ssd   hdd       os  ...  display_size  warranty Touchscreen  \\\n",
       "0     DDR4    0  1024  Windows  ...          15.6         1          No   \n",
       "1     DDR4  512     0  Windows  ...          15.6         1          No   \n",
       "2     DDR4    0  1024  Windows  ...          14.1         1          No   \n",
       "3     DDR4  512     0  Windows  ...          15.6         1          No   \n",
       "4     DDR4  512     0  Windows  ...          15.6         0          No   \n",
       "\n",
       "  msoffice  latest_price old_price discount  star_rating  ratings  reviews  \n",
       "0       No         23990     26990       11          3.8    15279     1947  \n",
       "1       No         37990     50990       25          4.3      990      108  \n",
       "2       No         32890     46990       30          3.9       28        4  \n",
       "3      Yes         42990     57330       25          4.4      158       18  \n",
       "4       No         54990     70171       21          4.2      116       15  \n",
       "\n",
       "[5 rows x 23 columns]"
      ]
     },
     "execution_count": 16,
     "metadata": {},
     "output_type": "execute_result"
    }
   ],
   "source": [
    "df.head()"
   ]
  },
  {
   "cell_type": "code",
   "execution_count": 17,
   "metadata": {},
   "outputs": [
    {
     "data": {
      "text/plain": [
       "array(['Windows', 'Mac', 'Missing'], dtype=object)"
      ]
     },
     "execution_count": 17,
     "metadata": {},
     "output_type": "execute_result"
    }
   ],
   "source": [
    "df.os.unique()"
   ]
  },
  {
   "cell_type": "code",
   "execution_count": 18,
   "metadata": {},
   "outputs": [
    {
     "data": {
      "text/plain": [
       "brand               0\n",
       "model               0\n",
       "processor_brand     0\n",
       "processor_name      1\n",
       "processor_gnrtn     0\n",
       "ram_gb             25\n",
       "ram_type           25\n",
       "ssd                 0\n",
       "hdd                 0\n",
       "os                  0\n",
       "os_bit              0\n",
       "graphic_card_gb     0\n",
       "weight              0\n",
       "display_size        0\n",
       "warranty            0\n",
       "Touchscreen         0\n",
       "msoffice            0\n",
       "latest_price        0\n",
       "old_price           0\n",
       "discount            0\n",
       "star_rating         0\n",
       "ratings             0\n",
       "reviews             0\n",
       "dtype: int64"
      ]
     },
     "execution_count": 18,
     "metadata": {},
     "output_type": "execute_result"
    }
   ],
   "source": [
    "df.isnull().sum()"
   ]
  },
  {
   "cell_type": "code",
   "execution_count": 19,
   "metadata": {},
   "outputs": [
    {
     "data": {
      "text/plain": [
       "array(['Casual', 'ThinNlight', 'Gaming'], dtype=object)"
      ]
     },
     "execution_count": 19,
     "metadata": {},
     "output_type": "execute_result"
    }
   ],
   "source": [
    "df.weight.unique()"
   ]
  },
  {
   "cell_type": "code",
   "execution_count": 20,
   "metadata": {},
   "outputs": [
    {
     "data": {
      "text/plain": [
       "Index(['brand', 'model', 'processor_brand', 'processor_name',\n",
       "       'processor_gnrtn', 'ram_gb', 'ram_type', 'ssd', 'hdd', 'os', 'os_bit',\n",
       "       'graphic_card_gb', 'weight', 'display_size', 'warranty', 'Touchscreen',\n",
       "       'msoffice', 'latest_price', 'old_price', 'discount', 'star_rating',\n",
       "       'ratings', 'reviews'],\n",
       "      dtype='object')"
      ]
     },
     "execution_count": 20,
     "metadata": {},
     "output_type": "execute_result"
    }
   ],
   "source": [
    "df.columns"
   ]
  },
  {
   "cell_type": "code",
   "execution_count": null,
   "metadata": {},
   "outputs": [],
   "source": []
  }
 ],
 "metadata": {
  "interpreter": {
   "hash": "ee8ea4e1f89b0e84e43bf980da77719cb6713e33330e3a297ed8b7c73440c63f"
  },
  "kernelspec": {
   "display_name": "Python 3.9.7 ('base')",
   "language": "python",
   "name": "python3"
  },
  "language_info": {
   "codemirror_mode": {
    "name": "ipython",
    "version": 3
   },
   "file_extension": ".py",
   "mimetype": "text/x-python",
   "name": "python",
   "nbconvert_exporter": "python",
   "pygments_lexer": "ipython3",
   "version": "3.9.7"
  },
  "orig_nbformat": 4
 },
 "nbformat": 4,
 "nbformat_minor": 2
}
