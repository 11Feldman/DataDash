{
 "cells": [
  {
   "cell_type": "markdown",
   "metadata": {},
   "source": [
    "### Acerca del conjunto de datos\n",
    "\n",
    "#### Opciones y preferencias alimentarias de los estudiantes universitarios\n",
    "\n",
    "Este conjunto de datos incluye información sobre opciones de alimentos, nutrición, preferencias, favoritos de la infancia y otra información de estudiantes universitarios. Hay 126 respuestas de estudiantes. Los datos son crudos y sin limpiar. La limpieza está en proceso y tan pronto como se haga, se publicarán versiones adicionales de los datos.\n",
    "Agradecimientos\n",
    "Gracias a todos los estudiantes de Mercyhurst University que aceptaron participar en esta encuesta.\n",
    "\n",
    "#### Inspiración\n",
    "\n",
    "¿Qué importancia tiene la información nutricional para los universitarios de hoy? ¿Su gusto por la comida está definido por sus preferencias alimenticias cuando eran niños? ¿Es más probable que los hijos de padres que cocinan elijan mejores alimentos que otros? ¿Es probable que estos niños tengan un gusto diferente en comparación con los demás? Hay una serie de preguntas abiertas incluidas en este conjunto de datos, tales como: ¿Cuál es su comida reconfortante favorita? ¿Cuál es tu cocina favorita? que podría funcionar bien para el procesamiento del lenguaje natural"
   ]
  }
 ],
 "metadata": {
  "interpreter": {
   "hash": "d5541ea63b3e0eec686519111bbc27c05e46464b7cfe1f7c0192638d11c7f99a"
  },
  "kernelspec": {
   "display_name": "Python 3.9.7 64-bit",
   "language": "python",
   "name": "python3"
  },
  "language_info": {
   "name": "python",
   "version": "3.9.7"
  },
  "orig_nbformat": 4
 },
 "nbformat": 4,
 "nbformat_minor": 2
}
